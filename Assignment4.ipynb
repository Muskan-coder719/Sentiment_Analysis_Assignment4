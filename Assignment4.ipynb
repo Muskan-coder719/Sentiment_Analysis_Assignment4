{
  "cells": [
    {
      "cell_type": "code",
      "source": [
        "from azure.storage.blob import BlobServiceClient\n",
        "import pandas as pd\n",
        "from io import StringIO\n",
        "\n",
        "# Azure Blob credentials\n",
        "account_url = \"https://storageaccountmuskan.blob.core.windows.net\"\n",
        "container_name = \"input-data\"\n",
        "blob_name = \"news_sentiment_analysis.csv\"\n",
        "sas_token = \"sp=r&st=2025-07-23T17:32:15Z&se=2025-07-24T01:47:15Z&spr=https&sv=2024-11-04&sr=b&sig=1sBAqhgqg25nc5jij87Sm5qydWn3anKvan3RIjnD%2F9M%3D\"\n",
        "# Create client\n",
        "blob_service_client = BlobServiceClient(account_url=account_url, credential=sas_token)\n",
        "blob_client = blob_service_client.get_blob_client(container=container_name, blob=blob_name)\n",
        "\n",
        "# Download blob content\n",
        "download_stream = blob_client.download_blob()\n",
        "data = download_stream.readall().decode('utf-8')\n",
        "\n",
        "# Load into pandas\n",
        "df = pd.read_csv(StringIO(data))\n",
        "print(df.head())\n"
      ],
      "outputs": [
        {
          "output_type": "stream",
          "name": "stdout",
          "text": "          Source          Author  \\\n0        stgnews  Bridger Palmer   \n1  Zimbabwe Mail  Staff Reporter   \n2      4-traders             NaN   \n3      4-traders             NaN   \n4         PLANET             NaN   \n\n                                               Title  \\\n0  Pine View High teacher wins Best in State awar...   \n1  Businesses Face Financial Strain Amid Liquidit...   \n2  Musk donates to super pac working to elect Tru...   \n3  US FTC issues warning to franchisors over unfa...   \n4                          Rooftop solar's dark side   \n\n                                         Description  \\\n0  ST. GEORGE — Kaitlyn Larson, a first-year teac...   \n1  Harare, Zimbabwe – Local businesses are grappl...   \n2  (marketscreener.com) Billionaire Elon Musk has...   \n3  (marketscreener.com) A U.S. trade regulator on...   \n4  4.5 million households in the U.S. have solar ...   \n\n                                                 URL  \\\n0  https://www.stgeorgeutah.com/news/archive/2024...   \n1  https://www.thezimbabwemail.com/business/busin...   \n2  https://www.marketscreener.com/business-leader...   \n3  https://www.marketscreener.com/quote/stock/MCD...   \n4  https://www.npr.org/2024/07/12/1197961036/roof...   \n\n                Published At Sentiment      Type  \n0  2024-07-12T23:45:25+00:00  positive  Business  \n1  2024-07-12T22:59:42+00:00   neutral  Business  \n2  2024-07-12T22:52:55+00:00  positive  Business  \n3  2024-07-12T22:41:01+00:00  negative  Business  \n4  2024-07-12T22:28:19+00:00  positive  Business  \n"
        }
      ],
      "execution_count": 4,
      "metadata": {
        "gather": {
          "logged": 1753293079491
        }
      }
    },
    {
      "cell_type": "code",
      "source": [
        "df.shape"
      ],
      "outputs": [
        {
          "output_type": "execute_result",
          "execution_count": 2,
          "data": {
            "text/plain": "(3500, 8)"
          },
          "metadata": {}
        }
      ],
      "execution_count": 2,
      "metadata": {
        "gather": {
          "logged": 1753148258861
        }
      }
    },
    {
      "cell_type": "code",
      "source": [
        "df.info()"
      ],
      "outputs": [
        {
          "output_type": "stream",
          "name": "stdout",
          "text": "<class 'pandas.core.frame.DataFrame'>\nRangeIndex: 3500 entries, 0 to 3499\nData columns (total 8 columns):\n #   Column        Non-Null Count  Dtype         \n---  ------        --------------  -----         \n 0   Source        3500 non-null   object        \n 1   Author        2512 non-null   object        \n 2   Title         3500 non-null   object        \n 3   Description   3500 non-null   object        \n 4   URL           3500 non-null   object        \n 5   Published At  3500 non-null   datetime64[ns]\n 6   Sentiment     3500 non-null   object        \n 7   Type          3500 non-null   object        \ndtypes: datetime64[ns](1), object(7)\nmemory usage: 218.9+ KB\n"
        }
      ],
      "execution_count": 3,
      "metadata": {
        "gather": {
          "logged": 1753148259036
        }
      }
    },
    {
      "cell_type": "markdown",
      "source": [
        "Cleaning and Preprocessing the Data "
      ],
      "metadata": {
        "nteract": {
          "transient": {
            "deleting": false
          }
        }
      }
    },
    {
      "cell_type": "code",
      "source": [
        "# Drop rows where Title or Description is missing\n",
        "df = df.dropna(subset=['Title', 'Description'])\n",
        "\n",
        "# Remove any unwanted characters (optional)\n",
        "df['Title'] = df['Title'].astype(str).str.strip()\n",
        "df['Description'] = df['Description'].astype(str).str.strip()\n",
        "\n",
        "# Combine Title and Description for better sentiment context\n",
        "df['combined_text'] = df['Title'] + \". \" + df['Description']"
      ],
      "outputs": [],
      "execution_count": 4,
      "metadata": {
        "gather": {
          "logged": 1753148259191
        }
      }
    },
    {
      "cell_type": "markdown",
      "source": [
        "Calculating Sentiment Score"
      ],
      "metadata": {
        "nteract": {
          "transient": {
            "deleting": false
          }
        }
      }
    },
    {
      "cell_type": "code",
      "source": [
        "import sys\n",
        "!{sys.executable} -m pip install textblob\n",
        "!{sys.executable} -m pip install nltk"
      ],
      "outputs": [
        {
          "output_type": "stream",
          "name": "stdout",
          "text": "Requirement already satisfied: textblob in /anaconda/envs/azureml_py310_sdkv2/lib/python3.10/site-packages (0.19.0)\nRequirement already satisfied: nltk>=3.9 in /anaconda/envs/azureml_py310_sdkv2/lib/python3.10/site-packages (from textblob) (3.9.1)\nRequirement already satisfied: click in /anaconda/envs/azureml_py310_sdkv2/lib/python3.10/site-packages (from nltk>=3.9->textblob) (8.1.8)\nRequirement already satisfied: joblib in /anaconda/envs/azureml_py310_sdkv2/lib/python3.10/site-packages (from nltk>=3.9->textblob) (1.4.2)\nRequirement already satisfied: regex>=2021.8.3 in /anaconda/envs/azureml_py310_sdkv2/lib/python3.10/site-packages (from nltk>=3.9->textblob) (2024.11.6)\nRequirement already satisfied: tqdm in /anaconda/envs/azureml_py310_sdkv2/lib/python3.10/site-packages (from nltk>=3.9->textblob) (4.67.1)\nRequirement already satisfied: nltk in /anaconda/envs/azureml_py310_sdkv2/lib/python3.10/site-packages (3.9.1)\nRequirement already satisfied: click in /anaconda/envs/azureml_py310_sdkv2/lib/python3.10/site-packages (from nltk) (8.1.8)\nRequirement already satisfied: joblib in /anaconda/envs/azureml_py310_sdkv2/lib/python3.10/site-packages (from nltk) (1.4.2)\nRequirement already satisfied: regex>=2021.8.3 in /anaconda/envs/azureml_py310_sdkv2/lib/python3.10/site-packages (from nltk) (2024.11.6)\nRequirement already satisfied: tqdm in /anaconda/envs/azureml_py310_sdkv2/lib/python3.10/site-packages (from nltk) (4.67.1)\n"
        }
      ],
      "execution_count": 5,
      "metadata": {
        "gather": {
          "logged": 1753148263438
        }
      }
    },
    {
      "cell_type": "code",
      "source": [
        "from textblob import TextBlob\n",
        "\n",
        "# Function to calculate sentiment polarity\n",
        "def get_sentiment(text):\n",
        "    blob = TextBlob(text)\n",
        "    polarity = blob.sentiment.polarity  # -1 to 1\n",
        "    if polarity > 0.1:\n",
        "        return 'positive'\n",
        "    elif polarity < -0.1:\n",
        "        return 'negative'\n",
        "    else:\n",
        "        return 'neutral'\n",
        "\n",
        "# Apply sentiment analysis\n",
        "df['calculated_sentiment'] = df['combined_text'].apply(get_sentiment)\n"
      ],
      "outputs": [],
      "execution_count": 6,
      "metadata": {
        "gather": {
          "logged": 1753148269970
        }
      }
    },
    {
      "cell_type": "code",
      "source": [
        "df[['Title', 'Sentiment', 'calculated_sentiment']].head()"
      ],
      "outputs": [
        {
          "output_type": "execute_result",
          "execution_count": 7,
          "data": {
            "text/plain": "                                               Title Sentiment  \\\n0  Pine View High teacher wins Best in State awar...  positive   \n1  Businesses Face Financial Strain Amid Liquidit...   neutral   \n2  Musk donates to super pac working to elect Tru...  positive   \n3  US FTC issues warning to franchisors over unfa...  negative   \n4                          Rooftop solar's dark side  positive   \n\n  calculated_sentiment  \n0             positive  \n1              neutral  \n2             positive  \n3             negative  \n4             positive  ",
            "text/html": "<div>\n<style scoped>\n    .dataframe tbody tr th:only-of-type {\n        vertical-align: middle;\n    }\n\n    .dataframe tbody tr th {\n        vertical-align: top;\n    }\n\n    .dataframe thead th {\n        text-align: right;\n    }\n</style>\n<table border=\"1\" class=\"dataframe\">\n  <thead>\n    <tr style=\"text-align: right;\">\n      <th></th>\n      <th>Title</th>\n      <th>Sentiment</th>\n      <th>calculated_sentiment</th>\n    </tr>\n  </thead>\n  <tbody>\n    <tr>\n      <th>0</th>\n      <td>Pine View High teacher wins Best in State awar...</td>\n      <td>positive</td>\n      <td>positive</td>\n    </tr>\n    <tr>\n      <th>1</th>\n      <td>Businesses Face Financial Strain Amid Liquidit...</td>\n      <td>neutral</td>\n      <td>neutral</td>\n    </tr>\n    <tr>\n      <th>2</th>\n      <td>Musk donates to super pac working to elect Tru...</td>\n      <td>positive</td>\n      <td>positive</td>\n    </tr>\n    <tr>\n      <th>3</th>\n      <td>US FTC issues warning to franchisors over unfa...</td>\n      <td>negative</td>\n      <td>negative</td>\n    </tr>\n    <tr>\n      <th>4</th>\n      <td>Rooftop solar's dark side</td>\n      <td>positive</td>\n      <td>positive</td>\n    </tr>\n  </tbody>\n</table>\n</div>"
          },
          "metadata": {}
        }
      ],
      "execution_count": 7,
      "metadata": {
        "gather": {
          "logged": 1753148270193
        }
      }
    },
    {
      "cell_type": "markdown",
      "source": [
        "Compare original vs calculated:"
      ],
      "metadata": {
        "nteract": {
          "transient": {
            "deleting": false
          }
        }
      }
    },
    {
      "cell_type": "code",
      "source": [
        "print(\"Original vs Calculated Sentiment Comparison:\")\n",
        "print(df[['Sentiment', 'calculated_sentiment']].value_counts())"
      ],
      "outputs": [
        {
          "output_type": "stream",
          "name": "stdout",
          "text": "Original vs Calculated Sentiment Comparison:\nSentiment  calculated_sentiment\npositive   positive                1447\nneutral    neutral                  736\npositive   neutral                  678\nnegative   neutral                  312\n           negative                 249\nneutral    positive                  40\nnegative   positive                  16\nneutral    negative                  13\npositive   negative                   9\ndtype: int64\n"
        }
      ],
      "execution_count": 8,
      "metadata": {
        "gather": {
          "logged": 1753148270357
        }
      }
    },
    {
      "cell_type": "code",
      "source": [
        "df.to_csv('cleaned_dataset_sentiment_analysis.csv', index=False)"
      ],
      "outputs": [],
      "execution_count": 9,
      "metadata": {
        "gather": {
          "logged": 1753148270520
        }
      }
    }
  ],
  "metadata": {
    "kernelspec": {
      "name": "python310-sdkv2",
      "language": "python",
      "display_name": "Python 3.10 - SDK v2"
    },
    "language_info": {
      "name": "python",
      "version": "3.10.16",
      "mimetype": "text/x-python",
      "codemirror_mode": {
        "name": "ipython",
        "version": 3
      },
      "pygments_lexer": "ipython3",
      "nbconvert_exporter": "python",
      "file_extension": ".py"
    },
    "microsoft": {
      "ms_spell_check": {
        "ms_spell_check_language": "en"
      },
      "host": {
        "AzureML": {
          "notebookHasBeenCompleted": true
        }
      }
    },
    "kernel_info": {
      "name": "python310-sdkv2"
    },
    "nteract": {
      "version": "nteract-front-end@1.0.0"
    }
  },
  "nbformat": 4,
  "nbformat_minor": 2
}